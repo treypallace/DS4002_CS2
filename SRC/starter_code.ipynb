{
 "cells": [
  {
   "attachments": {},
   "cell_type": "markdown",
   "id": "123c9a81",
   "metadata": {},
   "source": [
    "# Code to get started"
   ]
  },
  {
   "attachments": {},
   "cell_type": "markdown",
   "id": "f7b184db",
   "metadata": {},
   "source": [
    "## Exploratory Data Analysis"
   ]
  },
  {
   "cell_type": "code",
   "execution_count": null,
   "id": "bf5e5a5e",
   "metadata": {},
   "outputs": [],
   "source": [
    "# required libraries\n",
    "import pandas as pd\n",
    "import matplotlib.pyplot as plt\n",
    "import plotly\n",
    "import plotly.express as px\n",
    "from pandas.plotting import scatter_matrix\n",
    "from sklearn.preprocessing import StandardScaler\n",
    "#!pip install openpyxl\n",
    "\n",
    "# File path\n",
    "file_path = \"/Users/treypallace/Desktop/SNPRealTimeVGT.xlsx\"\n",
    "\n",
    "vgt = pd.read_excel(file_path, sheet_name=\"VGT_monthly\")\n",
    "snp = pd.read_excel(file_path, sheet_name=\"SNP_monthly\")\n",
    "cpi = pd.read_excel(file_path, sheet_name=\"CPI\")"
   ]
  },
  {
   "attachments": {},
   "cell_type": "markdown",
   "id": "09bed5b5",
   "metadata": {},
   "source": [
    "## Perform Analysis"
   ]
  },
  {
   "cell_type": "code",
   "execution_count": null,
   "id": "575a6cb3",
   "metadata": {},
   "outputs": [],
   "source": [
    "# Useful libraries\n",
    "#!pip install prophet\n",
    "from sklearn.linear_model import LinearRegression\n",
    "from prophet import Prophet"
   ]
  }
 ],
 "metadata": {
  "kernelspec": {
   "display_name": "Python 3 (ipykernel)",
   "language": "python",
   "name": "python3"
  },
  "language_info": {
   "codemirror_mode": {
    "name": "ipython",
    "version": 3
   },
   "file_extension": ".py",
   "mimetype": "text/x-python",
   "name": "python",
   "nbconvert_exporter": "python",
   "pygments_lexer": "ipython3",
   "version": "3.10.10"
  }
 },
 "nbformat": 4,
 "nbformat_minor": 5
}
